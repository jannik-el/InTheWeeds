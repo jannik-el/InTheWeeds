{
 "cells": [
  {
   "cell_type": "code",
   "execution_count": 20,
   "metadata": {},
   "outputs": [],
   "source": [
    "import pandas as pd\n",
    "import numpy as np\n",
    "\n",
    "import pyodbc\n",
    "import os\n",
    "from tqdm import tqdm"
   ]
  },
  {
   "cell_type": "code",
   "execution_count": 21,
   "metadata": {},
   "outputs": [],
   "source": [
    "CONNECTION_STRING = \"Enter Connection String Here\""
   ]
  },
  {
   "cell_type": "code",
   "execution_count": 287,
   "metadata": {},
   "outputs": [],
   "source": [
    "def read_csv(file, file_type, Transect, Recorder_Person, Date, Time, Latitude, Longitude, Depth, COG, Coverage):\n",
    "    \"\"\" Function reads csv and creates DF with the above columns. Parameters used to define column names.\"\"\"\n",
    "    def clean_columns(column):\n",
    "        \"\"\"Takes columns and rounds them 6 decimal places and makes float\"\"\"\n",
    "        # if type datetime convert to float\n",
    "        \n",
    "        return round(float(str(column)), 6)\n",
    "    if file_type == 'csv':\n",
    "        raw_data = pd.read_csv(file)\n",
    "    elif file_type == 'excel':\n",
    "        raw_data = pd.read_excel(file)\n",
    "    df = pd.DataFrame(raw_data, columns=[\"Transect\", \"Recorder\", \"Datetime\", \"Latitude\", \"Longitude\", \"Depth\", \"COG\", \"SliderCoverage\"])\n",
    "    df['Transect'] = raw_data[Transect]\n",
    "    df['Recorder'] = Recorder_Person\n",
    "    df['Latitude'] = raw_data[Latitude]\n",
    "    df['Longitude'] = raw_data[Longitude]\n",
    "    df['Depth'] = raw_data[Depth]\n",
    "    if COG == None:\n",
    "        df['COG'] = None\n",
    "    else:\n",
    "        raw_data[COG] = raw_data[COG].astype(str)\n",
    "        df['COG'] = raw_data[COG]\n",
    "        df['COG'] = df['COG'].apply(clean_columns)\n",
    "    df['SliderCoverage'] = raw_data[Coverage]\n",
    "    \n",
    "    df['Latitude'] = df['Latitude'].apply(clean_columns)\n",
    "    df['Longitude'] = df['Longitude'].apply(clean_columns)\n",
    "    df['Depth'] = df['Depth'].apply(clean_columns)\n",
    "    # drop empty rows in slider coverage\n",
    "    df = df.dropna(subset=['SliderCoverage'])\n",
    "\n",
    "    # convert date and time to str\n",
    "    raw_data[Date] = raw_data[Date].astype(str)\n",
    "    raw_data[Time] = raw_data[Time].astype(str)\n",
    "\n",
    "    # combine date and time\n",
    "\n",
    "    df['Datetime'] = raw_data[Date] + ' ' + raw_data[Time]\n",
    "    return df"
   ]
  },
  {
   "cell_type": "code",
   "execution_count": 288,
   "metadata": {},
   "outputs": [],
   "source": [
    "def create_table(transect, year, type):\n",
    "    \"\"\" Function creates table in SQL DB with the name of the transect and year. \"\"\"\n",
    "    transect = transect\n",
    "    year = year\n",
    "    table_name = transect + '_' + year + '_' + type\n",
    "    conn = pyodbc.connect(CONNECTION_STRING)\n",
    "    cursor = conn.cursor()\n",
    "    cursor.execute(\n",
    "        f\"\"\"CREATE TABLE [dbo].[{table_name}] (\n",
    "        [TransectId]     VARCHAR (50) NULL,\n",
    "        [Recorder]       VARCHAR (10) NULL,\n",
    "        [Datetime]       DATETIME     NULL,\n",
    "        [Longitude]      FLOAT (53)   NULL,\n",
    "        [Latitude]       FLOAT (53)   NULL,\n",
    "        [Depth]          FLOAT (53)   NULL,\n",
    "        [COG]            INT          NULL,\n",
    "        [SliderCoverage] INT          NULL\n",
    "        );\n",
    "        \"\"\"\n",
    "        )\n",
    "    conn.commit()\n",
    "    conn.close()\n",
    "    print(f\"Table {table_name} created.\")"
   ]
  },
  {
   "cell_type": "code",
   "execution_count": 289,
   "metadata": {},
   "outputs": [],
   "source": [
    "def upload_data(df, table_name):\n",
    "    \"\"\" Function uploads DF to SQL table. \"\"\"\n",
    "    with pyodbc.connect(CONNECTION_STRING) as conn:\n",
    "        cursor = conn.cursor()\n",
    "        for index, row in tqdm(df.iterrows(), total=df.shape[0]):\n",
    "            try: \n",
    "                cursor.execute(\"INSERT INTO \" + table_name + \" (TransectId, Recorder, Datetime, Latitude, Longitude, Depth, COG, SliderCoverage) values(?,?,?,?,?,?,?,?)\", row['Transect'], row['Recorder'], row['Datetime'], row['Latitude'], row['Longitude'], row['Depth'], row['COG'], row['SliderCoverage'])\n",
    "            except Exception as e:            \n",
    "                print(f\"Error: {e}\", row['Transect'], row['Recorder'], row['Datetime'], row['Latitude'], row['Longitude'], row['Depth'], row['COG'], row['SliderCoverage'])\n",
    "            conn.commit()\n",
    "        cursor.close()\n",
    "    print(\"Data successfully uploaded.\")\n",
    "\n"
   ]
  }
 ],
 "metadata": {
  "kernelspec": {
   "display_name": "EelgrassIdEnv",
   "language": "python",
   "name": "python3"
  },
  "language_info": {
   "codemirror_mode": {
    "name": "ipython",
    "version": 3
   },
   "file_extension": ".py",
   "mimetype": "text/x-python",
   "name": "python",
   "nbconvert_exporter": "python",
   "pygments_lexer": "ipython3",
   "version": "3.9.17"
  }
 },
 "nbformat": 4,
 "nbformat_minor": 2
}
